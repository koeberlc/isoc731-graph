{
 "cells": [
  {
   "cell_type": "markdown",
   "metadata": {},
   "source": [
    "# PROJET ISOC 731 - Network formation games \n"
   ]
  },
  {
   "cell_type": "markdown",
   "metadata": {},
   "source": [
    "📝 KOEBERLE Célien -- MASSIT Clément"
   ]
  },
  {
   "cell_type": "markdown",
   "metadata": {},
   "source": [
    "Durant ce projet nous allons nous intéresser à l'émergence de réseaux à partir d'un comportement non centralisé. Prenons le cas d'un ensemble de taille n : {1, ..., n} où n représente le nombre de personnes d'entités, ... . Par la suite, nous allons utiliser des noeuds. Ainsi nous allons représenter pendant ce projet, différents scénarios réalistes dans le but d'étudier les résultats concernant les propriétés des réseaux."
   ]
  },
  {
   "cell_type": "markdown",
   "metadata": {},
   "source": [
    "## 1- Random Graph 🔀"
   ]
  },
  {
   "cell_type": "markdown",
   "metadata": {},
   "source": [
    "Nous allons représenter des graphes où chaque noeuds, décide de manière aléatoire de se connecter aux autre n-1 noeuds avec une probabilité fixé à p. Lorsque p est petit, le graphe n'est pas connecté : c'est-à-dire que nous avons un grand nombre de petit cluster indépendant. Ainsi si p se rapproche de 1 nous allons obtenir un graphe avec un grand nombre de noeud connecter.   \n",
    "  \n",
    "Pour une meilleure visualisation des données, nous allons faire varier p de 0.01 jusqu'à 0.99 (avec un pas de 0.01) & génerer une centaine de graphes."
   ]
  },
  {
   "cell_type": "markdown",
   "metadata": {},
   "source": [
    "...... CODE ...... + Result"
   ]
  },
  {
   "cell_type": "markdown",
   "metadata": {},
   "source": [
    "## 2- Simple graph formation game --- First Part 📈"
   ]
  },
  {
   "cell_type": "markdown",
   "metadata": {},
   "source": [
    "Ensuite, prenons le fait que la valeur d'un noeud est évaluée de manière à ce que ce soit la somme des valeurs des noeuds voisins. Par conséquent la valeur d'un noeud qui n'a pas de voisins est 0, et la valeur d'un noeud qui a un seul voisin est 1.   \n",
    "Description du jeu : différents noeuds choisissent un temps aléatoire, à cet instant, un noeud regarde tous les noeuds voisins et se connecte à celui où la valeur est maximale (en cas d'égalité, il s'agira d'une sélection aléatoire.)  \n",
    "Faire plusieurs simulation va nous permettre d'obtenir une certaine stabilité dans les résultats."
   ]
  },
  {
   "cell_type": "markdown",
   "metadata": {},
   "source": [
    "....... CODE ........ + RESULT\n"
   ]
  },
  {
   "cell_type": "markdown",
   "metadata": {},
   "source": [
    "## 2- Simple graph formation game --- Second Part 📉"
   ]
  },
  {
   "cell_type": "markdown",
   "metadata": {},
   "source": [
    "Pour cette partie nous allons réaliser le même scénario avec une touche plus réaliste. Dans ce jeu de connection, on ne peut pas déduire la valeur d'un noeud de manière précise. Ce que nous allons faire, c'est prendre une valeur d'un noeud avec une certaine interférence qui peut varier de 50% à 150% de sa valeur réelle. Ainsi quand une connection est établi, la valeur réelle d'un noeud est révélée pour tous les noeuds voisins du noeud actuel.   \n",
    "  \n",
    "De même nous allons effectuer plusieurs graphes dans le but d'atteindre un certain niveau de stabilité.  \n",
    "La topologie diffère de la première partie du jeu. Voyons les résultats :"
   ]
  },
  {
   "cell_type": "markdown",
   "metadata": {},
   "source": [
    "....... CODE ........ + RESULT"
   ]
  },
  {
   "cell_type": "markdown",
   "metadata": {},
   "source": [
    "## 3- More advanced graph formation game 📊"
   ]
  },
  {
   "cell_type": "markdown",
   "metadata": {},
   "source": [
    "Dans les dernières parties, nous supposions qu'une fois qu'un noeud a établi son lien, il ne peut le céder. Maintenant, nous allons implémenter le fait que chaque peut avoir un comportement plus ou moins bon. Par bon on entend le fait que le noeud garde son lien. Réciproquement, si le noeud a un comportement mauvais, il cassera son lien. Nous allons modéliser le comportement par une variable nommée \"Karma\". C'est ce qui décidera au noeud de casser ou de se connecter à un autre noeud.  \n",
    "Ce jeu va se construire en plusieurs tours (ou round).  \n",
    "- Le premier round, correspond au scénario classique de la partie précédente.  \n",
    "- le second round, une fois que les noeuds sont interconnectés, chaque noeud va décider de coopérer ou de casser un lien. Si il décide de casser un lien, son karma va diminuer (il aura alors moins de chance de se connecter à un autre noeud par la suite), et inversement.\n",
    "- les autres round seront les mêmes pour faire avancer le graphe vers une certaine topologie."
   ]
  },
  {
   "cell_type": "markdown",
   "metadata": {},
   "source": [
    "....... CODE ........ + RESULT"
   ]
  }
 ],
 "metadata": {
  "language_info": {
   "name": "python"
  },
  "orig_nbformat": 4
 },
 "nbformat": 4,
 "nbformat_minor": 2
}
